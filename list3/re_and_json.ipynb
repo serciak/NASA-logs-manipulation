{
  "cells": [
    {
      "cell_type": "markdown",
      "metadata": {
        "id": "NmVK8GfOOzpz"
      },
      "source": []
    },
    {
      "cell_type": "markdown",
      "metadata": {
        "id": "vmTb0T_mvcyy"
      },
      "source": [
        "##**BIBLIOTEKA RE DO OBSŁUGI WYRAŻEŃ REGULARNYCH (RegEx)**\n",
        "\n"
      ]
    },
    {
      "cell_type": "code",
      "execution_count": 2,
      "metadata": {
        "id": "medS0wrYPI0V"
      },
      "outputs": [],
      "source": [
        "import re"
      ]
    },
    {
      "cell_type": "code",
      "execution_count": 3,
      "metadata": {
        "id": "oi1AWWPYtdQl"
      },
      "outputs": [],
      "source": [
        "def test(match):\n",
        "  if match:\n",
        "    print('found: ', match.group())\n",
        "  else:\n",
        "    print('match not found')"
      ]
    },
    {
      "cell_type": "code",
      "execution_count": 4,
      "metadata": {
        "id": "PQX-lWo3t4bf"
      },
      "outputs": [],
      "source": [
        "txt1 = 'abcdefghijk'\n",
        "txt2 = 'abc@def#ghi%jkl^'\n",
        "email1 = '123456@student.pwr.edu.pl'\n",
        "email2 = 'jan.kowalski@gmail.com'\n",
        "log = 'rose.glg.ed.ac.uk - - [27/Jul/1995:08:30:56 -0400] \"GET /images/NASA-logosmall align=left HTTP/1.0\" 200 786'"
      ]
    },
    {
      "cell_type": "markdown",
      "metadata": {
        "id": "sBsydUjiwEml"
      },
      "source": [
        "**search()**"
      ]
    },
    {
      "cell_type": "code",
      "execution_count": 5,
      "metadata": {
        "colab": {
          "base_uri": "https://localhost:8080/"
        },
        "id": "DYaOpRt_wNTc",
        "outputId": "4ff17abf-65e8-4749-a10a-09ae6c22d783"
      },
      "outputs": [
        {
          "name": "stdout",
          "output_type": "stream",
          "text": [
            "found:  abcdefghijk\n"
          ]
        }
      ],
      "source": [
        "match = re.search(r'\\w+', txt1)\n",
        "test(match)"
      ]
    },
    {
      "cell_type": "code",
      "execution_count": 6,
      "metadata": {
        "colab": {
          "base_uri": "https://localhost:8080/"
        },
        "id": "s-3uyMHaxU79",
        "outputId": "04392ed3-fb01-4c11-c5ae-75b18cc58719"
      },
      "outputs": [
        {
          "name": "stdout",
          "output_type": "stream",
          "text": [
            "found:  abc\n"
          ]
        }
      ],
      "source": [
        "match = re.search(r'\\w+', txt2)\n",
        "test(match)"
      ]
    },
    {
      "cell_type": "code",
      "execution_count": 7,
      "metadata": {
        "colab": {
          "base_uri": "https://localhost:8080/"
        },
        "id": "Z4mhY1ANx_od",
        "outputId": "ecd3d72c-665e-42ce-b0ea-9f16f0a6d7fb"
      },
      "outputs": [
        {
          "name": "stdout",
          "output_type": "stream",
          "text": [
            "found:  123456@student\n",
            "found:  kowalski@gmail\n"
          ]
        }
      ],
      "source": [
        "match1 = re.search(r'\\w+@\\w+', email1)\n",
        "match2 = re.search(r'\\w+@\\w+', email2)\n",
        "test(match1)\n",
        "test(match2)"
      ]
    },
    {
      "cell_type": "code",
      "execution_count": 8,
      "metadata": {
        "colab": {
          "base_uri": "https://localhost:8080/"
        },
        "id": "6wg42vSz1wVU",
        "outputId": "b9015d00-bbf3-4d93-93a0-a1cc975461ee"
      },
      "outputs": [
        {
          "name": "stdout",
          "output_type": "stream",
          "text": [
            "found:  123456@student.pwr.edu.pl\n",
            "found:  jan.kowalski@gmail.com\n"
          ]
        }
      ],
      "source": [
        "match1 = re.search(r'[\\w.]+@[\\w.]+', email1)\n",
        "match2 = re.search(r'[\\w.]+@[\\w.]+', email2)\n",
        "test(match1)\n",
        "test(match2)"
      ]
    },
    {
      "cell_type": "markdown",
      "metadata": {
        "id": "Z3W3GG_12v4s"
      },
      "source": [
        "**grupy**"
      ]
    },
    {
      "cell_type": "code",
      "execution_count": 9,
      "metadata": {
        "colab": {
          "base_uri": "https://localhost:8080/"
        },
        "id": "sf4DKLR23BTD",
        "outputId": "6e972bc8-b845-44b9-a9f1-6a8baf123c7d"
      },
      "outputs": [
        {
          "name": "stdout",
          "output_type": "stream",
          "text": [
            "found:  123456@student.pwr.edu.pl\n",
            "('123456', 'student.pwr.edu.pl')\n",
            "found:  jan.kowalski@gmail.com\n",
            "('jan.kowalski', 'gmail.com')\n"
          ]
        }
      ],
      "source": [
        "match1 = re.search(r'([\\w.]+)@([\\w.]+)', email1)\n",
        "match2 = re.search(r'([\\w.]+)@([\\w.]+)', email2)\n",
        "\n",
        "test(match1)\n",
        "print(match1.groups())\n",
        "test(match2)\n",
        "print(match2.groups())"
      ]
    },
    {
      "cell_type": "markdown",
      "metadata": {
        "id": "B_TNP4aE3vYH"
      },
      "source": [
        "**findall()**"
      ]
    },
    {
      "cell_type": "code",
      "execution_count": 10,
      "metadata": {
        "colab": {
          "base_uri": "https://localhost:8080/"
        },
        "id": "2QzIelfh3xyD",
        "outputId": "fd0299f2-cd29-47b8-f457-6d28121abcb6"
      },
      "outputs": [
        {
          "data": {
            "text/plain": [
              "['abc', 'def', 'ghi', 'jkl']"
            ]
          },
          "execution_count": 10,
          "metadata": {},
          "output_type": "execute_result"
        }
      ],
      "source": [
        "match = re.findall(r'\\w+', txt2)\n",
        "match"
      ]
    },
    {
      "cell_type": "code",
      "execution_count": 11,
      "metadata": {
        "colab": {
          "base_uri": "https://localhost:8080/"
        },
        "id": "1KzbdnbhEzY6",
        "outputId": "5aeb339b-fdba-4c67-a28e-11b35f5b617d"
      },
      "outputs": [
        {
          "data": {
            "text/plain": [
              "['123456', 'student', 'pwr', 'edu', 'pl']"
            ]
          },
          "execution_count": 11,
          "metadata": {},
          "output_type": "execute_result"
        }
      ],
      "source": [
        "match = re.findall(r'\\w+', email1)\n",
        "match"
      ]
    },
    {
      "cell_type": "markdown",
      "metadata": {
        "id": "NiuvmL5vGjZT"
      },
      "source": [
        "**sub()**"
      ]
    },
    {
      "cell_type": "code",
      "execution_count": 12,
      "metadata": {
        "colab": {
          "base_uri": "https://localhost:8080/",
          "height": 36
        },
        "id": "nLb1UW2dFp6B",
        "outputId": "71ab8816-e746-401d-8296-0103908dc1f1"
      },
      "outputs": [
        {
          "data": {
            "text/plain": [
              "'123456@gmail.com'"
            ]
          },
          "execution_count": 12,
          "metadata": {},
          "output_type": "execute_result"
        }
      ],
      "source": [
        "sub = re.sub(r'([\\w.]+)@([\\w.]+)', r'\\1@gmail.com', email1)\n",
        "sub"
      ]
    },
    {
      "cell_type": "markdown",
      "metadata": {
        "id": "NF3foolWYprD"
      },
      "source": [
        "**compile() i złożone wyrażenia regex**"
      ]
    },
    {
      "cell_type": "code",
      "execution_count": 13,
      "metadata": {
        "colab": {
          "base_uri": "https://localhost:8080/"
        },
        "id": "q03LCcPnYo1W",
        "outputId": "d5442fdb-cc57-4725-deb8-4d61cb5710f0"
      },
      "outputs": [
        {
          "name": "stdout",
          "output_type": "stream",
          "text": [
            "('rose.glg.ed.ac.uk', '27/Jul/1995', '08:30:56', '/images/NASA-logosmall', '200', '786')\n"
          ]
        }
      ],
      "source": [
        "log_regex = re.compile(r'^(\\S+) \\S+ \\S+ \\[(\\d{2}/\\w{3}/\\d{4}):(\\d{2}:\\d{2}:\\d{2}) [-+]\\d{4}\\]'\n",
        "                           r' \"(?:[A-Z]+ )?([^\\s\"]*)(?:\\s+\\S*){0,3}\" (\\d{3}) (\\d+|-)$')\n",
        "match = log_regex.match(log)\n",
        "print(match.groups())"
      ]
    },
    {
      "cell_type": "markdown",
      "metadata": {
        "id": "ZlKFIW01Z_OR"
      },
      "source": [
        "##**BIBLIOTEKA JSON**"
      ]
    },
    {
      "cell_type": "code",
      "execution_count": 14,
      "metadata": {
        "id": "7HUn-2-baEoz"
      },
      "outputs": [],
      "source": [
        "import json"
      ]
    },
    {
      "cell_type": "markdown",
      "metadata": {
        "id": "F9-PvRmYjLiG"
      },
      "source": [
        "**dump() i dumps()**"
      ]
    },
    {
      "cell_type": "code",
      "execution_count": 15,
      "metadata": {
        "colab": {
          "base_uri": "https://localhost:8080/"
        },
        "id": "a8NDmVPAaLxk",
        "outputId": "2ecaf4b0-1e80-40eb-c37d-4ddb32f824da"
      },
      "outputs": [
        {
          "name": "stdout",
          "output_type": "stream",
          "text": [
            "[\n",
            " \"rose.glg.ed.ac.uk\",\n",
            " \"27/Jul/1995\",\n",
            " \"08:30:56\",\n",
            " \"/images/NASA-logosmall\",\n",
            " \"200\",\n",
            " \"786\"\n",
            "]\n"
          ]
        }
      ],
      "source": [
        "print(json.dumps(match.groups(), indent=1))"
      ]
    },
    {
      "cell_type": "code",
      "execution_count": 21,
      "metadata": {
        "id": "BEMa8N_QjKWN"
      },
      "outputs": [],
      "source": [
        "log_dict = {\n",
        "    'domain': match.group(1),\n",
        "    'date': match.group(2),\n",
        "    'time': match.group(3),\n",
        "    'path': match.group(4),\n",
        "    'code': int(match.group(5)),\n",
        "    'size': int(match.group(6)),\n",
        "}"
      ]
    },
    {
      "cell_type": "code",
      "execution_count": 22,
      "metadata": {
        "colab": {
          "base_uri": "https://localhost:8080/"
        },
        "id": "bfh4u7LikMGz",
        "outputId": "1939bf86-d16f-428e-b3e1-959c5db8d0cd"
      },
      "outputs": [
        {
          "name": "stdout",
          "output_type": "stream",
          "text": [
            "{\n",
            "  \"domain\": \"rose.glg.ed.ac.uk\",\n",
            "  \"date\": \"27/Jul/1995\",\n",
            "  \"time\": \"08:30:56\",\n",
            "  \"path\": \"/images/NASA-logosmall\",\n",
            "  \"code\": 200,\n",
            "  \"size\": 786\n",
            "}\n"
          ]
        }
      ],
      "source": [
        "log_json = json.dumps(log_dict, indent=2)\n",
        "print(log_json)"
      ]
    },
    {
      "cell_type": "code",
      "execution_count": 23,
      "metadata": {
        "id": "VOXEEuq2k1HA"
      },
      "outputs": [],
      "source": [
        "with open('log.json', 'w') as file:\n",
        "  json.dump(log_dict, file, indent=2)"
      ]
    },
    {
      "cell_type": "markdown",
      "metadata": {
        "id": "Q3EVBVMBldvU"
      },
      "source": [
        "**load() i loads()**"
      ]
    },
    {
      "cell_type": "code",
      "execution_count": 24,
      "metadata": {
        "colab": {
          "base_uri": "https://localhost:8080/"
        },
        "id": "VnW4pmQ2lg_Q",
        "outputId": "8d10b3d3-842a-43d2-9334-7f2d25b006d2"
      },
      "outputs": [
        {
          "name": "stdout",
          "output_type": "stream",
          "text": [
            "{'domain': 'rose.glg.ed.ac.uk', 'date': '27/Jul/1995', 'time': '08:30:56', 'path': '/images/NASA-logosmall', 'code': 200, 'size': 786}\n"
          ]
        }
      ],
      "source": [
        "log_dict = json.loads(log_json)\n",
        "type(log_dict)\n",
        "print(log_dict)"
      ]
    },
    {
      "cell_type": "code",
      "execution_count": 25,
      "metadata": {
        "colab": {
          "base_uri": "https://localhost:8080/"
        },
        "id": "_CX3BjV5qPME",
        "outputId": "fb79e046-79f7-4b0a-96e1-5c05ed71d4e5"
      },
      "outputs": [
        {
          "name": "stdout",
          "output_type": "stream",
          "text": [
            "{'domain': 'rose.glg.ed.ac.uk', 'date': '27/Jul/1995', 'time': '08:30:56', 'path': '/images/NASA-logosmall', 'code': 200, 'size': 786}\n"
          ]
        }
      ],
      "source": [
        "with open('log.json', 'r') as file:\n",
        "  log_json = json.load(file)\n",
        "print(log_json)"
      ]
    }
  ],
  "metadata": {
    "colab": {
      "provenance": []
    },
    "kernelspec": {
      "display_name": "Python 3",
      "name": "python3"
    },
    "language_info": {
      "codemirror_mode": {
        "name": "ipython",
        "version": 3
      },
      "file_extension": ".py",
      "mimetype": "text/x-python",
      "name": "python",
      "nbconvert_exporter": "python",
      "pygments_lexer": "ipython3",
      "version": "3.11.0"
    }
  },
  "nbformat": 4,
  "nbformat_minor": 0
}
